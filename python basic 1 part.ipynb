{
 "cells": [
  {
   "cell_type": "markdown",
   "id": "e1b72ed0",
   "metadata": {},
   "source": [
    "# Basic part -I w3resource \n",
    "\n",
    "https://www.w3resource.com/python-exercises/"
   ]
  },
  {
   "cell_type": "code",
   "execution_count": 5,
   "id": "d674542c",
   "metadata": {},
   "outputs": [
    {
     "name": "stdout",
     "output_type": "stream",
     "text": [
      "Twinkle, twinkle, little star, \n",
      "\tHow I wonder what you are! \n",
      "\t\tUp above the world so high, \n",
      "\t\tLike a diamond in the sky. \n",
      "Twinkle, twinkle, little star, \n",
      "\tHow I wonder what you are!\n"
     ]
    }
   ],
   "source": [
    "print(\"Twinkle, twinkle, little star, \\n\\tHow I wonder what you are! \\n\\t\\tUp above the world so high, \\n\\t\\tLike a diamond in the sky. \\nTwinkle, twinkle, little star, \\n\\tHow I wonder what you are!\")\n",
    "\n",
    "\n",
    "\n"
   ]
  },
  {
   "cell_type": "code",
   "execution_count": 7,
   "id": "a7de0403",
   "metadata": {},
   "outputs": [
    {
     "name": "stdout",
     "output_type": "stream",
     "text": [
      "2022-03-15 04:23:08\n"
     ]
    }
   ],
   "source": [
    "# p - 2\n",
    "import datetime\n",
    "now = datetime.datetime.now()\n",
    "print(now.strftime(\"%Y-%m-%d %H:%M:%S\"))"
   ]
  },
  {
   "cell_type": "code",
   "execution_count": 9,
   "id": "1fb0982c",
   "metadata": {},
   "outputs": [
    {
     "name": "stdout",
     "output_type": "stream",
     "text": [
      "Input radius4\n",
      "The area of the circule with radius 4.0 is: 50.26548245743669\n"
     ]
    }
   ],
   "source": [
    "# prob - 4\n",
    "\n",
    "from math import pi\n",
    "\n",
    "r = float(input(\"Input radius\"))\n",
    "\n",
    "print(\"The area of the circule with radius \"+str(r)+\" is: \"+str(pi*r**2))"
   ]
  },
  {
   "cell_type": "code",
   "execution_count": 10,
   "id": "b700c4b5",
   "metadata": {},
   "outputs": [
    {
     "name": "stdout",
     "output_type": "stream",
     "text": [
      "Input some comma seprated numbers : 2, 3, 4, 5\n",
      "List :  ['2', ' 3', ' 4', ' 5']\n",
      "Tuple :  ('2', ' 3', ' 4', ' 5')\n"
     ]
    }
   ],
   "source": [
    "# prob - 5\n",
    "values = input(\"Input some comma seprated numbers : \")\n",
    "list = values.split(\",\")\n",
    "tuple = tuple(list)\n",
    "print('List : ',list)\n",
    "print('Tuple : ',tuple)"
   ]
  },
  {
   "cell_type": "code",
   "execution_count": 13,
   "id": "a11c7359",
   "metadata": {},
   "outputs": [
    {
     "name": "stdout",
     "output_type": "stream",
     "text": [
      "Input some textMilon, 1, 2,3 \n",
      "List :  ['Milon', ' 1', ' 2', '3 ']\n"
     ]
    }
   ],
   "source": [
    "values = input(\"Input some text\")\n",
    "list = values.split(\",\")\n",
    "#tuple = tuple(list)\n",
    "\n",
    "print(\"List : \", list)\n",
    "#print(\"Tuple : \", tuple)"
   ]
  },
  {
   "cell_type": "code",
   "execution_count": 14,
   "id": "f5bc5e73",
   "metadata": {},
   "outputs": [],
   "source": [
    "list.append(4)"
   ]
  },
  {
   "cell_type": "code",
   "execution_count": 15,
   "id": "7cd661ec",
   "metadata": {},
   "outputs": [
    {
     "data": {
      "text/plain": [
       "['Milon', ' 1', ' 2', '3 ', 4]"
      ]
     },
     "execution_count": 15,
     "metadata": {},
     "output_type": "execute_result"
    }
   ],
   "source": [
    "list\n"
   ]
  },
  {
   "cell_type": "code",
   "execution_count": 21,
   "id": "03528280",
   "metadata": {},
   "outputs": [
    {
     "name": "stdout",
     "output_type": "stream",
     "text": [
      "input the filenameja.java\n",
      "The extension of file is 'java'\n"
     ]
    }
   ],
   "source": [
    "# prob 7\n",
    "\n",
    "filename = input(\"input the filename\")\n",
    "\n",
    "f_ext = filename.split(\".\")\n",
    "\n",
    "print(\"The extension of file is \"+ repr(f_ext[-1]))"
   ]
  },
  {
   "cell_type": "code",
   "execution_count": 24,
   "id": "0a4402f5",
   "metadata": {},
   "outputs": [
    {
     "name": "stdout",
     "output_type": "stream",
     "text": [
      "red white\n"
     ]
    }
   ],
   "source": [
    "color =[\"red\", \"green\", \"white\", \"black\"]\n",
    "\n",
    "print(\"%s %s\" %(color[0], color[-2]))"
   ]
  },
  {
   "cell_type": "code",
   "execution_count": 33,
   "id": "509a1dcc",
   "metadata": {},
   "outputs": [
    {
     "name": "stdout",
     "output_type": "stream",
     "text": [
      "Input an Integer : 4\n",
      "492\n"
     ]
    }
   ],
   "source": [
    "# prob 10\n",
    "\n",
    "a = int(input(\"Input an Integer : \"))\n",
    "n1 = int(\"%s\"%a)\n",
    "\n",
    "n2 = int(\"%s%s\"%(a,a))\n",
    "\n",
    "n3 = int(\"%s%s%s\"%(a,a,a))\n",
    "\n",
    "print(n1+n2+n3)\n"
   ]
  },
  {
   "cell_type": "code",
   "execution_count": null,
   "id": "53419831",
   "metadata": {},
   "outputs": [],
   "source": []
  },
  {
   "cell_type": "code",
   "execution_count": 42,
   "id": "a18d67eb",
   "metadata": {},
   "outputs": [
    {
     "name": "stdout",
     "output_type": "stream",
     "text": [
      "Input year : 1200\n",
      "input month : 2\n",
      "   February 1200\n",
      "Mo Tu We Th Fr Sa Su\n",
      "    1  2  3  4  5  6\n",
      " 7  8  9 10 11 12 13\n",
      "14 15 16 17 18 19 20\n",
      "21 22 23 24 25 26 27\n",
      "28 29\n",
      "\n"
     ]
    }
   ],
   "source": [
    "# prob 12\n",
    "\n",
    "import calendar\n",
    "y=int(input(\"Input year : \"))\n",
    "m = int(input(\"input month : \"))\n",
    "\n",
    "print(calendar.month(y,m))\n"
   ]
  },
  {
   "cell_type": "code",
   "execution_count": 3,
   "id": "66c33451",
   "metadata": {},
   "outputs": [
    {
     "name": "stdout",
     "output_type": "stream",
     "text": [
      "milons sheikh\n"
     ]
    }
   ],
   "source": [
    "# prob 13\n",
    "\n",
    "print(\"\"\"milons sheikh\"\"\")"
   ]
  },
  {
   "cell_type": "code",
   "execution_count": 4,
   "id": "774e74e0",
   "metadata": {},
   "outputs": [
    {
     "name": "stdout",
     "output_type": "stream",
     "text": [
      "9\n"
     ]
    }
   ],
   "source": [
    "# prob 14\n",
    "\n",
    "from datetime import date\n",
    "f_date = date(2014, 7, 2)\n",
    "l_date = date(2014, 7, 11)\n",
    "delta = l_date - f_date\n",
    "print(delta.days)"
   ]
  },
  {
   "cell_type": "code",
   "execution_count": 7,
   "id": "130ccdd1",
   "metadata": {},
   "outputs": [
    {
     "name": "stdout",
     "output_type": "stream",
     "text": [
      "-31\n"
     ]
    }
   ],
   "source": [
    "from datetime import date\n",
    "f_date = date(2014, 7, 25)\n",
    "l_date = date(2014, 8, 25)\n",
    "\n",
    "delta = f_date - l_date\n",
    "\n",
    "print(delta.days)"
   ]
  },
  {
   "cell_type": "code",
   "execution_count": null,
   "id": "ae300ec8",
   "metadata": {},
   "outputs": [],
   "source": []
  }
 ],
 "metadata": {
  "kernelspec": {
   "display_name": "Python 3",
   "language": "python",
   "name": "python3"
  },
  "language_info": {
   "codemirror_mode": {
    "name": "ipython",
    "version": 3
   },
   "file_extension": ".py",
   "mimetype": "text/x-python",
   "name": "python",
   "nbconvert_exporter": "python",
   "pygments_lexer": "ipython3",
   "version": "3.8.8"
  }
 },
 "nbformat": 4,
 "nbformat_minor": 5
}
